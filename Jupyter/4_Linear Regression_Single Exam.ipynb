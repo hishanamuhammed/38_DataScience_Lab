{
 "cells": [
  {
   "cell_type": "code",
   "execution_count": 10,
   "id": "0581d049",
   "metadata": {},
   "outputs": [],
   "source": [
    "import numpy as np\n",
    "import pandas as pd\n",
    "import matplotlib.pyplot as plt\n",
    "import sklearn\n",
    "from sklearn import datasets\n",
    "from sklearn import linear_model\n",
    "from sklearn.model_selection import train_test_split\n",
    "from sklearn.metrics import mean_squared_error,r2_score"
   ]
  },
  {
   "cell_type": "code",
   "execution_count": 11,
   "id": "9bc2c353",
   "metadata": {},
   "outputs": [],
   "source": [
    "x,y=datasets.load_iris(return_X_y=True)\n",
    "x=x[:, np.newaxis, 2]"
   ]
  },
  {
   "cell_type": "code",
   "execution_count": 19,
   "id": "b02f5214",
   "metadata": {},
   "outputs": [],
   "source": [
    "x_train,x_test,y_train,y_test=train_test_split(x,y,test_size=0.20,random_state=2)"
   ]
  },
  {
   "cell_type": "code",
   "execution_count": 20,
   "id": "667ea6c1",
   "metadata": {},
   "outputs": [],
   "source": [
    "classifier=linear_model.LinearRegression()"
   ]
  },
  {
   "cell_type": "code",
   "execution_count": 21,
   "id": "790e99da",
   "metadata": {},
   "outputs": [
    {
     "data": {
      "text/plain": [
       "LinearRegression()"
      ]
     },
     "execution_count": 21,
     "metadata": {},
     "output_type": "execute_result"
    }
   ],
   "source": [
    "classifier.fit(x_train,y_train)"
   ]
  },
  {
   "cell_type": "code",
   "execution_count": 15,
   "id": "668b30f0",
   "metadata": {},
   "outputs": [
    {
     "data": {
      "text/plain": [
       "array([ 1.6135018 ,  1.12367547, -0.03409585,  2.14785779,  0.01043381,\n",
       "        2.01426879, -0.07862552,  1.43538313,  1.4799128 ,  1.12367547,\n",
       "        1.83615013,  1.3463238 ,  1.43538313,  1.39085347,  1.43538313,\n",
       "       -0.03409585,  1.3463238 ,  1.30179413, -0.03409585, -0.07862552,\n",
       "        1.52444246,  1.3463238 ,  0.18855248, -0.03409585,  1.4799128 ,\n",
       "       -0.21221452,  0.18855248,  1.25726447,  0.81196781,  0.05496348])"
      ]
     },
     "execution_count": 15,
     "metadata": {},
     "output_type": "execute_result"
    }
   ],
   "source": [
    "y_pred=classifier.predict(x_test)\n",
    "y_pred"
   ]
  },
  {
   "cell_type": "code",
   "execution_count": 16,
   "id": "803fb10a",
   "metadata": {},
   "outputs": [
    {
     "data": {
      "text/plain": [
       "[<matplotlib.lines.Line2D at 0x1aaa6e8eb90>]"
      ]
     },
     "execution_count": 16,
     "metadata": {},
     "output_type": "execute_result"
    },
    {
     "data": {
      "image/png": "[encoded data removed]",
      "text/plain": [
       "<Figure size 432x288 with 1 Axes>"
      ]
     },
     "metadata": {
      "needs_background": "light"
     },
     "output_type": "display_data"
    }
   ],
   "source": [
    "plt.scatter(x_test,y_test)\n",
    "plt.plot(x_test,y_pred,color=\"red\")"
   ]
  },
  {
   "cell_type": "code",
   "execution_count": 17,
   "id": "be723a7e",
   "metadata": {},
   "outputs": [
    {
     "data": {
      "text/plain": [
       "0.07886708425516747"
      ]
     },
     "execution_count": 17,
     "metadata": {},
     "output_type": "execute_result"
    }
   ],
   "source": [
    "mean_squared_error(y_test,y_pred)"
   ]
  },
  {
   "cell_type": "code",
   "execution_count": 18,
   "id": "14c4e7fe",
   "metadata": {},
   "outputs": [
    {
     "data": {
      "text/plain": [
       "0.8536487096295862"
      ]
     },
     "execution_count": 18,
     "metadata": {},
     "output_type": "execute_result"
    }
   ],
   "source": [
    "r2_score(y_test,y_pred)"
   ]
  },
  {
   "cell_type": "code",
   "execution_count": null,
   "id": "2cb82933",
   "metadata": {},
   "outputs": [],
   "source": []
  }
 ],
 "metadata": {
  "kernelspec": {
   "display_name": "Python 3 (ipykernel)",
   "language": "python",
   "name": "python3"
  },
  "language_info": {
   "codemirror_mode": {
    "name": "ipython",
    "version": 3
   },
   "file_extension": ".py",
   "mimetype": "text/x-python",
   "name": "python",
   "nbconvert_exporter": "python",
   "pygments_lexer": "ipython3",
   "version": "3.10.1"
  }
 },
 "nbformat": 4,
 "nbformat_minor": 5
}
